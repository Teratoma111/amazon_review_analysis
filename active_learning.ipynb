{
  "nbformat": 4,
  "nbformat_minor": 0,
  "metadata": {
    "colab": {
      "name": "Untitled4.ipynb",
      "provenance": [],
      "collapsed_sections": [],
      "authorship_tag": "ABX9TyPEG0omZ1I/2w/ji9+fGu3b",
      "include_colab_link": true
    },
    "kernelspec": {
      "name": "python3",
      "display_name": "Python 3"
    },
    "language_info": {
      "name": "python"
    },
    "accelerator": "GPU"
  },
  "cells": [
    {
      "cell_type": "markdown",
      "metadata": {
        "id": "view-in-github",
        "colab_type": "text"
      },
      "source": [
        "<a href=\"https://colab.research.google.com/github/Teratoma111/amazon_review_analysis/blob/main/active_learning.ipynb\" target=\"_parent\"><img src=\"https://colab.research.google.com/assets/colab-badge.svg\" alt=\"Open In Colab\"/></a>"
      ]
    },
    {
      "cell_type": "code",
      "metadata": {
        "colab": {
          "base_uri": "https://localhost:8080/"
        },
        "id": "5gnvfJNFJfMS",
        "outputId": "f6761b62-5335-4543-b509-0aae6244abd4"
      },
      "source": [
        "import torch\n",
        "from torchtext.legacy import data\n",
        "import numpy as np  \n",
        "import torch.optim as optim\n",
        "SEED = 42\n",
        "\n",
        "torch.manual_seed(SEED)\n",
        "torch.backends.cudnn.deterministic = True\n",
        "\n",
        "TEXT = data.Field(include_lengths = True,\n",
        "                  tokenize = 'spacy',\n",
        "                  tokenizer_language = 'en_core_web_sm')\n",
        "LABEL = data.LabelField()\n",
        "INDEX = data.LabelField()\n",
        "from google.colab import drive\n",
        "drive.mount('/content/drive')\n",
        "import random\n",
        "\n",
        "fields = {'reviewText': ('text', TEXT), 'overall': ('label', LABEL), 'index': ('index', INDEX)}\n",
        "train_data = data.TabularDataset.splits(\n",
        "                                        path = '/content/drive/MyDrive',\n",
        "                                        train = \"Musical_Instruments_5(mod).json\",\n",
        "                                        format = 'json',\n",
        "                                        fields = fields)[0]\n",
        "    \n",
        "for i in range(0, len(train_data)):\n",
        "  if(len(train_data[i].text) < 1):\n",
        "    train_data[i].text = train_data[3].text\n",
        "    train_data[i].label = train_data[3].label\n",
        "origin_data = train_data\n"
      ],
      "execution_count": 1,
      "outputs": [
        {
          "output_type": "stream",
          "text": [
            "Mounted at /content/drive\n"
          ],
          "name": "stdout"
        }
      ]
    },
    {
      "cell_type": "code",
      "metadata": {
        "id": "iQPXZ1wnQbWo"
      },
      "source": [
        ""
      ],
      "execution_count": 1,
      "outputs": []
    },
    {
      "cell_type": "code",
      "metadata": {
        "id": "khryjRDmQl4h"
      },
      "source": [
        "import torch.nn as nn\n",
        "class RNN(nn.Module):\n",
        "    def __init__(self, vocab_size, embedding_dim, hidden_dim, output_dim, n_layers, \n",
        "                 bidirectional, dropout, pad_idx):\n",
        "        \n",
        "        super().__init__()\n",
        "        \n",
        "        self.embedding = nn.Embedding(vocab_size, embedding_dim, padding_idx = pad_idx)\n",
        "        \n",
        "        self.rnn = nn.LSTM(embedding_dim, \n",
        "                           hidden_dim, \n",
        "                           num_layers=n_layers, \n",
        "                           bidirectional=bidirectional, \n",
        "                           dropout=dropout)\n",
        "        \n",
        "        self.fc = nn.Linear(hidden_dim * 2, output_dim)\n",
        "        \n",
        "        self.dropout = nn.Dropout(dropout)\n",
        "        \n",
        "    def forward(self, text, text_lengths):\n",
        "        \n",
        "        embedded = self.dropout(self.embedding(text))\n",
        "        \n",
        "        packed_embedded = nn.utils.rnn.pack_padded_sequence(embedded, text_lengths.to('cpu'))\n",
        "        \n",
        "        packed_output, (hidden, cell) = self.rnn(packed_embedded)\n",
        "        output, output_lengths = nn.utils.rnn.pad_packed_sequence(packed_output)\n",
        "        hidden = self.dropout(torch.cat((hidden[-2,:,:], hidden[-1,:,:]), dim = 1))\n",
        "\n",
        "        return self.fc(hidden)"
      ],
      "execution_count": 2,
      "outputs": []
    },
    {
      "cell_type": "code",
      "metadata": {
        "id": "jHwO2nNVQsRN"
      },
      "source": [
        "def get_weights(iterator):\n",
        "  weights = torch.zeros(len(LABEL.vocab))\n",
        "  for batch in iterator:\n",
        "    for i in batch.label:\n",
        "      weights[i.cpu().numpy()] +=1\n",
        "  for i in range(0, len(LABEL.vocab)):\n",
        "    weights[i] = (1 / weights[i]) * 100\n",
        "  return weights"
      ],
      "execution_count": 3,
      "outputs": []
    },
    {
      "cell_type": "code",
      "metadata": {
        "id": "bZ2AcVSUQuOb"
      },
      "source": [
        "from sklearn.metrics import f1_score\n",
        "from sklearn.metrics import recall_score\n",
        "def categorical_accuracy(preds, y):\n",
        "    top_pred = preds.argmax(1, keepdim = True)\n",
        "    y_score = top_pred.detach().cpu().numpy()\n",
        "    y_true = y.view_as(top_pred).cpu().numpy()\n",
        "    f1 = f1_score(y_true, y_score, average = 'weighted')\n",
        "    rec = recall_score(y_true, y_score, average = 'weighted')\n",
        "    correct = top_pred.eq(y.view_as(top_pred)).sum()\n",
        "    acc = correct.float() / y.shape[0]\n",
        "    return (rec, f1, acc)"
      ],
      "execution_count": 4,
      "outputs": []
    },
    {
      "cell_type": "code",
      "metadata": {
        "id": "zCpbQDpMQ3hW"
      },
      "source": [
        "def train(model, iterator, optimizer, criterion):\n",
        "    \n",
        "    epoch_loss = 0\n",
        "    epoch_acc = 0\n",
        "    epoch_f1 = 0\n",
        "    epoch_rec = 0\n",
        "    model.train()\n",
        "    \n",
        "    for batch in iterator:\n",
        "        \n",
        "        optimizer.zero_grad()\n",
        "        \n",
        "        text, text_lengths = batch.text\n",
        "        \n",
        "        predictions = model(text, text_lengths).squeeze(1)\n",
        "        \n",
        "        loss = criterion(predictions, batch.label)\n",
        "        \n",
        "        metrics = categorical_accuracy(predictions, batch.label)\n",
        "        \n",
        "        loss.backward()\n",
        "        \n",
        "        optimizer.step()\n",
        "        acc = metrics[2]\n",
        "        f1 = metrics[1]\n",
        "        rec = metrics[0]\n",
        "        epoch_loss += loss.item()\n",
        "        epoch_acc += acc.item()\n",
        "        epoch_f1 += f1\n",
        "        epoch_rec += rec\n",
        "    epoch_acc /= len(iterator)\n",
        "    epoch_f1 /= len(iterator)\n",
        "    epoch_rec /= len(iterator)\n",
        "    return epoch_loss / len(iterator), (epoch_rec, epoch_f1, epoch_acc)"
      ],
      "execution_count": 5,
      "outputs": []
    },
    {
      "cell_type": "code",
      "metadata": {
        "id": "JRqkyyuUQ5Sg"
      },
      "source": [
        "def evaluate(model, iterator, criterion):\n",
        "    \n",
        "    epoch_loss = 0\n",
        "    epoch_acc = 0\n",
        "    epoch_f1 = 0\n",
        "    epoch_rec = 0\n",
        "    \n",
        "    model.eval()\n",
        "    \n",
        "    with torch.no_grad():\n",
        "    \n",
        "        for batch in iterator:\n",
        "\n",
        "            text, text_lengths = batch.text\n",
        "            \n",
        "            predictions = model(text, text_lengths)\n",
        "            \n",
        "            loss = criterion(predictions, batch.label)\n",
        "            \n",
        "            metrics = categorical_accuracy(predictions, batch.label)\n",
        "\n",
        "            acc = metrics[2]\n",
        "            f1 = metrics[1]\n",
        "            rec = metrics[0]\n",
        "            epoch_loss += loss.item()\n",
        "            epoch_acc += acc.item()\n",
        "            epoch_f1 += f1\n",
        "            epoch_rec += rec\n",
        "        epoch_acc /= len(iterator)\n",
        "        epoch_f1 /= len(iterator)\n",
        "        epoch_rec /= len(iterator)\n",
        "        \n",
        "    return epoch_loss / len(iterator), (epoch_rec, epoch_f1, epoch_acc)"
      ],
      "execution_count": 6,
      "outputs": []
    },
    {
      "cell_type": "code",
      "metadata": {
        "colab": {
          "base_uri": "https://localhost:8080/"
        },
        "id": "yEKzOSX3Q6s5",
        "outputId": "a6bcbb26-6233-4834-f0e9-2f845b2cd0cb"
      },
      "source": [
        "from torchtext.legacy import data\n",
        "TEXT.build_vocab(train_data, \n",
        "                 vectors = \"fasttext.simple.300d\", \n",
        "                 unk_init = torch.Tensor.normal_)\n",
        "LABEL.build_vocab(train_data)\n",
        "INDEX.build_vocab(train_data)\n",
        "TEXT1 = data.Field(include_lengths = True,\n",
        "                  tokenize = 'spacy',\n",
        "                  tokenizer_language = 'en_core_web_sm')\n",
        "LABEL1 = data.LabelField()\n",
        "INDEX1 = data.LabelField()\n",
        "field = {('text', TEXT1),('label', LABEL1), ('index', INDEX1)}\n",
        "\n",
        "train_data, valid_data = train_data.split(random_state = random.seed(SEED))\n",
        "train_data_arr = np.array(train_data.examples)\n",
        "l = list(range(0, len(train_data)))\n",
        "random.shuffle(l)\n",
        "rand_data =  data.Dataset(train_data_arr[l[-200:]], fields=field)\n",
        "TEXT1.build_vocab(train_data, \n",
        "                 vectors = \"fasttext.simple.300d\", \n",
        "                 unk_init = torch.Tensor.normal_)\n",
        "LABEL1.build_vocab(train_data)\n",
        "INDEX1.build_vocab(train_data)\n",
        "BATCH_SIZE = 128\n",
        "device = torch.device('cuda' if torch.cuda.is_available() else 'cpu')\n",
        "train_iterator, valid_iterator= data.BucketIterator.splits(\n",
        "    (train_data, valid_data), \n",
        "    batch_size = BATCH_SIZE,\n",
        "    sort_key = lambda x: len(x.text),\n",
        "    sort_within_batch = True, \n",
        "    device = device)"
      ],
      "execution_count": 7,
      "outputs": [
        {
          "output_type": "stream",
          "text": [
            ".vector_cache/wiki.simple.vec: 293MB [00:05, 54.8MB/s]                           \n",
            "  0%|          | 0/111051 [00:00<?, ?it/s]Skipping token b'111051' with 1-dimensional vector [b'300']; likely a header\n",
            "100%|█████████▉| 110588/111051 [00:10<00:00, 10347.16it/s]"
          ],
          "name": "stderr"
        }
      ]
    },
    {
      "cell_type": "code",
      "metadata": {
        "id": "VuPA4HJhRp1w"
      },
      "source": [
        "  pretrained_embeddings = TEXT.vocab.vectors\n",
        "  INPUT_DIM = len(TEXT.vocab)\n",
        "  EMBEDDING_DIM = 300\n",
        "  HIDDEN_DIM = 256\n",
        "  OUTPUT_DIM = len(LABEL.vocab)\n",
        "  N_LAYERS = 2\n",
        "  BIDIRECTIONAL = True\n",
        "  DROPOUT = 0.5\n",
        "  PAD_IDX = TEXT.vocab.stoi[TEXT.pad_token]\n",
        "  model = RNN(INPUT_DIM, \n",
        "              EMBEDDING_DIM, \n",
        "              HIDDEN_DIM, \n",
        "              OUTPUT_DIM, \n",
        "              N_LAYERS, \n",
        "              BIDIRECTIONAL, \n",
        "              DROPOUT, \n",
        "              PAD_IDX)\n",
        "  model.embedding.weight.data.copy_(pretrained_embeddings)\n",
        "  UNK_IDX = TEXT.vocab.stoi[TEXT.unk_token]\n",
        "\n",
        "  model.embedding.weight.data[UNK_IDX] = torch.zeros(EMBEDDING_DIM)\n",
        "  model.embedding.weight.data[PAD_IDX] = torch.zeros(EMBEDDING_DIM)\n",
        "\n",
        "  optimizer = optim.Adam(model.parameters())\n",
        "\n",
        "  criterion = nn.CrossEntropyLoss(weight =  get_weights(train_iterator))\n",
        "  #criterion = nn.CrossEntropyLoss()\n",
        "  model = model.to(device)\n",
        "  criterion = criterion.to(device)"
      ],
      "execution_count": 8,
      "outputs": []
    },
    {
      "cell_type": "code",
      "metadata": {
        "id": "LYRpVI4pSTjR"
      },
      "source": [
        "from torchtext.legacy import data\n",
        "TEXT1.build_vocab(rand_data, \n",
        "                 vectors = \"fasttext.simple.300d\", \n",
        "                 unk_init = torch.Tensor.normal_)\n",
        "LABEL1.build_vocab(rand_data)\n",
        "INDEX1.build_vocab(rand_data)\n",
        "\n",
        "\n",
        "rand_iterator, valid_iterator = data.BucketIterator.splits(\n",
        "    (rand_data, valid_data), \n",
        "    batch_size = BATCH_SIZE,\n",
        "    sort_key = lambda x: len(x.text),\n",
        "    #sort_within_batch = False,\n",
        "    sort_within_batch = True, \n",
        "    device = device)"
      ],
      "execution_count": 9,
      "outputs": []
    },
    {
      "cell_type": "code",
      "metadata": {
        "id": "R6oJyBiwTiAA"
      },
      "source": [
        "import time\n",
        "from torchtext import data, datasets\n",
        "def epoch_time(start_time, end_time):\n",
        "    elapsed_time = end_time - start_time\n",
        "    elapsed_mins = int(elapsed_time / 60)\n",
        "    elapsed_secs = int(elapsed_time - (elapsed_mins * 60))\n",
        "    return elapsed_mins, elapsed_secs"
      ],
      "execution_count": 10,
      "outputs": []
    },
    {
      "cell_type": "code",
      "metadata": {
        "colab": {
          "base_uri": "https://localhost:8080/"
        },
        "id": "1yoAAvzwR360",
        "outputId": "1fe13e43-217f-4ee3-a648-b8871fcde4e1"
      },
      "source": [
        "N_EPOCHS = 15\n",
        "best_valid_score = float('0')\n",
        "best_f1 = float('0')\n",
        "for epoch in range(N_EPOCHS):\n",
        "    start_time = time.time()\n",
        "    train_res = train(model, rand_iterator, optimizer, criterion)\n",
        "    train_loss = train_res[0]\n",
        "    train_score = train_res[1]\n",
        "    valid_res = evaluate(model, valid_iterator, criterion)\n",
        "    valid_score = valid_res[1]\n",
        "    valid_loss = valid_res[0]\n",
        "    end_time = time.time()\n",
        "    valid_acc = (valid_score[1])\n",
        "    acc = valid_acc\n",
        "    #print(float(valid_acc))\n",
        "    epoch_mins, epoch_secs = epoch_time(start_time, end_time)\n",
        "    print(f'Epoch: {epoch+1:02} | Epoch Time: {epoch_mins}m {epoch_secs}s')\n",
        "    if acc > best_valid_score:\n",
        "        best_valid_score= acc\n",
        "        best_f1 = valid_score[1]*100\n",
        "        torch.save(model.state_dict(), '/content/drive/MyDrive/mo1.pt')\n",
        "        print(f'\\tValid Loss: {valid_loss:.3f} | Valid F1: {valid_score[1]*100:.2f}% | Valid rec: {valid_score[0]*100:.2f}% | Valid acc: {valid_score[2]*100:.2f}%')\n",
        "    print(f'\\tTrain Loss: {train_loss:.3f} | Train F1: {train_score[1]*100:.2f}% | Train rec: {train_score[0]*100:.2f}% | Train acc: {train_score[2]*100:.2f}%')\n",
        "print(\"--------------------------------\")\n",
        "print(best_valid_score, best_f1)"
      ],
      "execution_count": 11,
      "outputs": [
        {
          "output_type": "stream",
          "text": [
            "Epoch: 01 | Epoch Time: 0m 1s\n",
            "\tValid Loss: 1.610 | Valid F1: 51.31% | Valid rec: 61.03% | Valid acc: 61.03%\n",
            "\tTrain Loss: 1.603 | Train F1: 47.80% | Train rec: 46.01% | Train acc: 46.01%\n",
            "Epoch: 02 | Epoch Time: 0m 1s\n",
            "\tTrain Loss: 1.582 | Train F1: 51.77% | Train rec: 52.30% | Train acc: 52.30%\n",
            "Epoch: 03 | Epoch Time: 0m 1s\n",
            "\tTrain Loss: 1.560 | Train F1: 40.58% | Train rec: 34.33% | Train acc: 34.33%\n",
            "Epoch: 04 | Epoch Time: 0m 1s\n",
            "\tTrain Loss: 1.525 | Train F1: 11.85% | Train rec: 10.07% | Train acc: 10.07%\n"
          ],
          "name": "stdout"
        },
        {
          "output_type": "stream",
          "text": [
            "\r100%|█████████▉| 110588/111051 [00:30<00:00, 10347.16it/s]"
          ],
          "name": "stderr"
        },
        {
          "output_type": "stream",
          "text": [
            "Epoch: 05 | Epoch Time: 0m 1s\n",
            "\tTrain Loss: 1.500 | Train F1: 3.11% | Train rec: 4.73% | Train acc: 4.73%\n",
            "Epoch: 06 | Epoch Time: 0m 1s\n",
            "\tTrain Loss: 1.475 | Train F1: 1.75% | Train rec: 4.04% | Train acc: 4.04%\n",
            "Epoch: 07 | Epoch Time: 0m 1s\n",
            "\tTrain Loss: 1.405 | Train F1: 5.55% | Train rec: 6.12% | Train acc: 6.12%\n",
            "Epoch: 08 | Epoch Time: 0m 1s\n",
            "\tTrain Loss: 1.252 | Train F1: 28.75% | Train rec: 22.53% | Train acc: 22.53%\n",
            "Epoch: 09 | Epoch Time: 0m 1s\n",
            "\tTrain Loss: 1.095 | Train F1: 46.59% | Train rec: 40.97% | Train acc: 40.97%\n",
            "Epoch: 10 | Epoch Time: 0m 1s\n",
            "\tTrain Loss: 0.949 | Train F1: 52.29% | Train rec: 46.66% | Train acc: 46.66%\n",
            "Epoch: 11 | Epoch Time: 0m 1s\n",
            "\tTrain Loss: 0.812 | Train F1: 56.71% | Train rec: 53.99% | Train acc: 53.99%\n",
            "Epoch: 12 | Epoch Time: 0m 1s\n",
            "\tTrain Loss: 0.683 | Train F1: 53.94% | Train rec: 51.30% | Train acc: 51.30%\n"
          ],
          "name": "stdout"
        },
        {
          "output_type": "stream",
          "text": [
            "/usr/local/lib/python3.7/dist-packages/sklearn/metrics/_classification.py:1272: UndefinedMetricWarning: Recall is ill-defined and being set to 0.0 in labels with no true samples. Use `zero_division` parameter to control this behavior.\n",
            "  _warn_prf(average, modifier, msg_start, len(result))\n"
          ],
          "name": "stderr"
        },
        {
          "output_type": "stream",
          "text": [
            "Epoch: 13 | Epoch Time: 0m 1s\n",
            "\tTrain Loss: 0.587 | Train F1: 64.10% | Train rec: 62.46% | Train acc: 62.46%\n",
            "Epoch: 14 | Epoch Time: 0m 1s\n",
            "\tTrain Loss: 0.538 | Train F1: 60.35% | Train rec: 58.68% | Train acc: 58.68%\n",
            "Epoch: 15 | Epoch Time: 0m 1s\n",
            "\tTrain Loss: 0.522 | Train F1: 74.36% | Train rec: 72.96% | Train acc: 72.96%\n",
            "--------------------------------\n",
            "0.5130837266324801 51.308372663248015\n"
          ],
          "name": "stdout"
        }
      ]
    },
    {
      "cell_type": "code",
      "metadata": {
        "id": "ew-QKyVwSjTE"
      },
      "source": [
        "from torchtext.legacy import data\n",
        "train_iterator, valid_iterator= data.BucketIterator.splits(\n",
        "    (train_data, valid_data), \n",
        "    batch_size = BATCH_SIZE,\n",
        "    sort_key = lambda x: len(x.text),\n",
        "    sort_within_batch = True, \n",
        "    device = device)"
      ],
      "execution_count": 12,
      "outputs": []
    },
    {
      "cell_type": "code",
      "metadata": {
        "id": "0P9mHYLCS9gT"
      },
      "source": [
        "def get_train_data(model, train_iterator, train_data):  \n",
        "  bf = [(0, 0.000001)]\n",
        "  a = np.array(bf,dtype = [('index', int) , ('prob', float)])\n",
        "  with torch.no_grad():\n",
        "    for batch in train_iterator:\n",
        "      text, text_lengths = batch.text\n",
        "      preds = model(text, text_lengths)\n",
        "      preds_sorted, idxs = preds.sort(descending=True)\n",
        "      U = (preds_sorted[:, 0] - preds_sorted[:,1])\n",
        "      for i in range(0, len(batch)):\n",
        "        j = i\n",
        "        hu = float(U.cpu().numpy()[j])\n",
        "        nuf = int(batch.index.cpu().numpy()[i])\n",
        "        b = np.array([(nuf, hu)],dtype = [('index', int) , ('prob', float)])\n",
        "        a = np.concatenate((a, b))\n",
        "    a = np.array(a,dtype = [('index', int) , ('prob', float)])\n",
        "    a.sort(order = 'prob')\n",
        "    train_data_arr = np.array(train_data.examples)\n",
        "    inds = a[-200:]['index']\n",
        "    train_id = []\n",
        "    for i_1 in inds:\n",
        "      for i_2 in range(0, len(train_data_arr)):\n",
        "        print\n",
        "        if( i_1 == vars(train_data_arr[i_2])['index']):\n",
        "          train_id.append(i_2)\n",
        "    return train_id"
      ],
      "execution_count": 13,
      "outputs": []
    },
    {
      "cell_type": "code",
      "metadata": {
        "id": "rfGDEIHG-Oar"
      },
      "source": [
        "def get_train_entropy_data(model, train_iterator, train_data):  \n",
        "  bf = [(0, 0.000001)]\n",
        "  a = np.array(bf,dtype = [('index', int) , ('prob', float)])\n",
        "  with torch.no_grad():\n",
        "    for batch in train_iterator:\n",
        "      text, text_lengths = batch.text\n",
        "      preds = model(text, text_lengths)\n",
        "      #preds_sorted, idxs = preds.sort(descending=True)\n",
        "      log_probs = torch.log(preds)\n",
        "      U = (preds*log_probs).sum(1)\n",
        "      for i in range(0, len(batch)):\n",
        "        j = i\n",
        "        hu = float(U.cpu().numpy()[j])\n",
        "        nuf = int(batch.index.cpu().numpy()[i])\n",
        "        b = np.array([(nuf, hu)],dtype = [('index', int) , ('prob', float)])\n",
        "        a = np.concatenate((a, b))\n",
        "    a = np.array(a,dtype = [('index', int) , ('prob', float)])\n",
        "    a.sort(order = 'prob')\n",
        "    train_data_arr = np.array(train_data.examples)\n",
        "    inds = a[-200:]['index']\n",
        "    train_id = []\n",
        "    for i_1 in inds:\n",
        "      for i_2 in range(0, len(train_data_arr)):\n",
        "        print\n",
        "        if( i_1 == vars(train_data_arr[i_2])['index']):\n",
        "          train_id.append(i_2)\n",
        "    return train_id"
      ],
      "execution_count": 14,
      "outputs": []
    },
    {
      "cell_type": "code",
      "metadata": {
        "colab": {
          "base_uri": "https://localhost:8080/",
          "height": 1000
        },
        "id": "hFa6-wq4bCTG",
        "outputId": "b70a52b4-498d-49de-e8ef-1d80dc7f9631"
      },
      "source": [
        "TEXT2 = data.Field(include_lengths = True,\n",
        "                  tokenize = 'spacy',\n",
        "                  tokenizer_language = 'en_core_web_sm')\n",
        "LABEL2 = data.LabelField()\n",
        "INDEX2 = data.LabelField()\n",
        "best_plot = []\n",
        "for k in range(0, 10):\n",
        "  field1 = {('text', TEXT2),('label', LABEL2), ('index', INDEX2)}\n",
        "  to_data =  data.Dataset(train_data_arr[get_train_entropy_data(model, train_iterator, train_data)], fields=field1)\n",
        "  TEXT2.build_vocab(to_data, \n",
        "                  vectors = \"fasttext.simple.300d\", \n",
        "                  unk_init = torch.Tensor.normal_)\n",
        "  LABEL2.build_vocab(to_data)\n",
        "  INDEX2.build_vocab(train_data)\n",
        "  INDEX2.build_vocab(to_data)\n",
        "  to_iterator, valid_iterator = data.BucketIterator.splits(\n",
        "      (to_data, valid_data), \n",
        "      batch_size = BATCH_SIZE,\n",
        "      sort_key = lambda x: len(x.text),\n",
        "      sort_within_batch = True, \n",
        "      device = device)\n",
        "  N_EPOCHS = 12\n",
        "  best_valid_score = float('0')\n",
        "  best_f1 = float('0')\n",
        "  for epoch in range(N_EPOCHS):\n",
        "      start_time = time.time()\n",
        "      train_res = train(model, to_iterator, optimizer, criterion)\n",
        "      train_loss = train_res[0]\n",
        "      train_score = train_res[1]\n",
        "      valid_res = evaluate(model, train_iterator, criterion)\n",
        "      valid_score = valid_res[1]\n",
        "      valid_loss = valid_res[0]\n",
        "      end_time = time.time()\n",
        "      valid_acc = (valid_score[1])\n",
        "      acc = valid_acc\n",
        "      epoch_mins, epoch_secs = epoch_time(start_time, end_time)\n",
        "      print(f'Epoch: {epoch+1:02} | Epoch Time: {epoch_mins}m {epoch_secs}s')\n",
        "      if acc > best_valid_score:\n",
        "          best_valid_score= acc\n",
        "          best_f1 = valid_score[1]*100\n",
        "          torch.save(model.state_dict(), '/content/drive/MyDrive/mo1.pt')\n",
        "          print(f'\\tValid Loss: {valid_loss:.3f} | Valid F1: {valid_score[1]*100:.2f}% | Valid rec: {valid_score[0]*100:.2f}% | Valid acc: {valid_score[2]*100:.2f}%')\n",
        "      print(f'\\tTrain Loss: {train_loss:.3f} | Train F1: {train_score[1]*100:.2f}% | Train rec: {train_score[0]*100:.2f}% | Train acc: {train_score[2]*100:.2f}%')\n",
        "  print(\"--------------------------------\")\n",
        "  best_plot.append(best_f1)\n",
        "  print(best_valid_score, best_f1)"
      ],
      "execution_count": 15,
      "outputs": [
        {
          "output_type": "stream",
          "text": [
            "/usr/local/lib/python3.7/dist-packages/sklearn/metrics/_classification.py:1272: UndefinedMetricWarning: Recall is ill-defined and being set to 0.0 in labels with no true samples. Use `zero_division` parameter to control this behavior.\n",
            "  _warn_prf(average, modifier, msg_start, len(result))\n"
          ],
          "name": "stderr"
        },
        {
          "output_type": "stream",
          "text": [
            "Epoch: 01 | Epoch Time: 0m 2s\n",
            "\tValid Loss: 2.290 | Valid F1: 10.97% | Valid rec: 11.76% | Valid acc: 11.76%\n",
            "\tTrain Loss: 2.825 | Train F1: 22.97% | Train rec: 17.84% | Train acc: 17.84%\n",
            "Epoch: 02 | Epoch Time: 0m 2s\n",
            "\tTrain Loss: 2.066 | Train F1: 12.99% | Train rec: 13.59% | Train acc: 13.59%\n",
            "Epoch: 03 | Epoch Time: 0m 2s\n",
            "\tTrain Loss: 1.822 | Train F1: 7.45% | Train rec: 11.24% | Train acc: 11.24%\n",
            "Epoch: 04 | Epoch Time: 0m 2s\n",
            "\tValid Loss: 1.852 | Valid F1: 12.68% | Valid rec: 11.16% | Valid acc: 11.16%\n",
            "\tTrain Loss: 1.753 | Train F1: 2.34% | Train rec: 6.42% | Train acc: 6.42%\n",
            "Epoch: 05 | Epoch Time: 0m 2s\n",
            "\tTrain Loss: 1.265 | Train F1: 14.89% | Train rec: 17.32% | Train acc: 17.32%\n",
            "Epoch: 06 | Epoch Time: 0m 2s\n",
            "\tTrain Loss: 1.259 | Train F1: 16.94% | Train rec: 18.53% | Train acc: 18.53%\n",
            "Epoch: 07 | Epoch Time: 0m 2s\n",
            "\tTrain Loss: 1.207 | Train F1: 13.14% | Train rec: 14.84% | Train acc: 14.84%\n",
            "Epoch: 08 | Epoch Time: 0m 2s\n",
            "\tTrain Loss: 1.097 | Train F1: 18.19% | Train rec: 21.66% | Train acc: 21.66%\n",
            "Epoch: 09 | Epoch Time: 0m 2s\n",
            "\tValid Loss: 1.742 | Valid F1: 17.05% | Valid rec: 16.68% | Valid acc: 16.68%\n",
            "\tTrain Loss: 1.075 | Train F1: 20.42% | Train rec: 21.74% | Train acc: 21.74%\n",
            "Epoch: 10 | Epoch Time: 0m 2s\n",
            "\tValid Loss: 1.760 | Valid F1: 26.52% | Valid rec: 23.62% | Valid acc: 23.62%\n",
            "\tTrain Loss: 0.990 | Train F1: 27.77% | Train rec: 28.65% | Train acc: 28.65%\n",
            "Epoch: 11 | Epoch Time: 0m 2s\n",
            "\tValid Loss: 1.791 | Valid F1: 37.26% | Valid rec: 31.86% | Valid acc: 31.86%\n",
            "\tTrain Loss: 0.962 | Train F1: 36.61% | Train rec: 33.42% | Train acc: 33.42%\n",
            "Epoch: 12 | Epoch Time: 0m 2s\n",
            "\tValid Loss: 1.818 | Valid F1: 43.64% | Valid rec: 38.45% | Valid acc: 38.45%\n",
            "\tTrain Loss: 0.902 | Train F1: 47.00% | Train rec: 43.53% | Train acc: 43.53%\n",
            "--------------------------------\n",
            "0.4363575285263666 43.635752852636664\n",
            "Epoch: 01 | Epoch Time: 0m 2s\n",
            "\tValid Loss: 1.858 | Valid F1: 44.72% | Valid rec: 39.93% | Valid acc: 39.93%\n",
            "\tTrain Loss: 0.841 | Train F1: 50.27% | Train rec: 46.92% | Train acc: 46.92%\n",
            "Epoch: 02 | Epoch Time: 0m 2s\n",
            "\tTrain Loss: 0.782 | Train F1: 53.14% | Train rec: 50.69% | Train acc: 50.69%\n",
            "Epoch: 03 | Epoch Time: 0m 2s\n",
            "\tTrain Loss: 0.736 | Train F1: 51.36% | Train rec: 49.39% | Train acc: 49.39%\n",
            "Epoch: 04 | Epoch Time: 0m 2s\n",
            "\tTrain Loss: 0.695 | Train F1: 47.53% | Train rec: 44.79% | Train acc: 44.79%\n",
            "Epoch: 05 | Epoch Time: 0m 2s\n",
            "\tTrain Loss: 0.669 | Train F1: 45.79% | Train rec: 42.49% | Train acc: 42.49%\n",
            "Epoch: 06 | Epoch Time: 0m 2s\n",
            "\tTrain Loss: 0.624 | Train F1: 47.28% | Train rec: 44.57% | Train acc: 44.57%\n",
            "Epoch: 07 | Epoch Time: 0m 2s\n",
            "\tTrain Loss: 0.624 | Train F1: 54.57% | Train rec: 53.17% | Train acc: 53.17%\n",
            "Epoch: 08 | Epoch Time: 0m 2s\n",
            "\tTrain Loss: 0.747 | Train F1: 46.76% | Train rec: 41.93% | Train acc: 41.93%\n",
            "Epoch: 09 | Epoch Time: 0m 2s\n",
            "\tValid Loss: 2.429 | Valid F1: 53.42% | Valid rec: 58.20% | Valid acc: 58.20%\n",
            "\tTrain Loss: 0.624 | Train F1: 59.20% | Train rec: 59.03% | Train acc: 59.03%\n",
            "Epoch: 10 | Epoch Time: 0m 2s\n",
            "\tValid Loss: 2.530 | Valid F1: 54.51% | Valid rec: 60.26% | Valid acc: 60.26%\n",
            "\tTrain Loss: 0.588 | Train F1: 65.96% | Train rec: 68.71% | Train acc: 68.71%\n",
            "Epoch: 11 | Epoch Time: 0m 2s\n",
            "\tTrain Loss: 0.688 | Train F1: 65.54% | Train rec: 67.23% | Train acc: 67.23%\n",
            "Epoch: 12 | Epoch Time: 0m 2s\n",
            "\tTrain Loss: 0.533 | Train F1: 67.07% | Train rec: 64.76% | Train acc: 64.76%\n",
            "--------------------------------\n",
            "0.5450675382698498 54.506753826984976\n",
            "Epoch: 01 | Epoch Time: 0m 2s\n",
            "\tValid Loss: 2.502 | Valid F1: 35.78% | Valid rec: 29.74% | Valid acc: 29.74%\n",
            "\tTrain Loss: 0.538 | Train F1: 58.18% | Train rec: 54.51% | Train acc: 54.51%\n",
            "Epoch: 02 | Epoch Time: 0m 2s\n",
            "\tValid Loss: 2.553 | Valid F1: 43.14% | Valid rec: 37.97% | Valid acc: 37.97%\n",
            "\tTrain Loss: 0.512 | Train F1: 53.92% | Train rec: 50.91% | Train acc: 50.91%\n",
            "Epoch: 03 | Epoch Time: 0m 2s\n",
            "\tValid Loss: 2.644 | Valid F1: 50.44% | Valid rec: 48.94% | Valid acc: 48.94%\n",
            "\tTrain Loss: 0.469 | Train F1: 63.44% | Train rec: 61.33% | Train acc: 61.33%\n",
            "Epoch: 04 | Epoch Time: 0m 2s\n",
            "\tValid Loss: 2.742 | Valid F1: 51.68% | Valid rec: 51.81% | Valid acc: 51.81%\n",
            "\tTrain Loss: 0.464 | Train F1: 66.53% | Train rec: 66.06% | Train acc: 66.06%\n",
            "Epoch: 05 | Epoch Time: 0m 2s\n",
            "\tTrain Loss: 0.434 | Train F1: 68.73% | Train rec: 68.19% | Train acc: 68.19%\n",
            "Epoch: 06 | Epoch Time: 0m 2s\n",
            "\tTrain Loss: 0.426 | Train F1: 67.31% | Train rec: 66.58% | Train acc: 66.58%\n",
            "Epoch: 07 | Epoch Time: 0m 2s\n",
            "\tValid Loss: 3.185 | Valid F1: 53.23% | Valid rec: 54.64% | Valid acc: 54.64%\n",
            "\tTrain Loss: 0.403 | Train F1: 72.13% | Train rec: 72.44% | Train acc: 72.44%\n",
            "Epoch: 08 | Epoch Time: 0m 2s\n",
            "\tTrain Loss: 0.364 | Train F1: 74.75% | Train rec: 74.00% | Train acc: 74.00%\n",
            "Epoch: 09 | Epoch Time: 0m 2s\n",
            "\tTrain Loss: 0.328 | Train F1: 73.38% | Train rec: 71.88% | Train acc: 71.88%\n",
            "Epoch: 10 | Epoch Time: 0m 2s\n",
            "\tTrain Loss: 0.327 | Train F1: 66.68% | Train rec: 63.85% | Train acc: 63.85%\n",
            "Epoch: 11 | Epoch Time: 0m 2s\n",
            "\tTrain Loss: 0.288 | Train F1: 68.62% | Train rec: 66.32% | Train acc: 66.32%\n",
            "Epoch: 12 | Epoch Time: 0m 2s\n",
            "\tTrain Loss: 0.272 | Train F1: 76.66% | Train rec: 75.91% | Train acc: 75.91%\n",
            "--------------------------------\n",
            "0.5322678241319655 53.22678241319655\n",
            "Epoch: 01 | Epoch Time: 0m 2s\n",
            "\tValid Loss: 3.658 | Valid F1: 52.75% | Valid rec: 53.40% | Valid acc: 53.40%\n",
            "\tTrain Loss: 0.263 | Train F1: 78.21% | Train rec: 77.95% | Train acc: 77.95%\n",
            "Epoch: 02 | Epoch Time: 0m 2s\n",
            "\tTrain Loss: 0.214 | Train F1: 86.15% | Train rec: 85.72% | Train acc: 85.72%\n",
            "Epoch: 03 | Epoch Time: 0m 2s\n",
            "\tTrain Loss: 0.234 | Train F1: 77.64% | Train rec: 75.78% | Train acc: 75.78%\n",
            "Epoch: 04 | Epoch Time: 0m 2s\n",
            "\tTrain Loss: 0.207 | Train F1: 79.07% | Train rec: 77.47% | Train acc: 77.47%\n",
            "Epoch: 05 | Epoch Time: 0m 2s\n",
            "\tValid Loss: 4.091 | Valid F1: 53.53% | Valid rec: 56.48% | Valid acc: 56.48%\n",
            "\tTrain Loss: 0.188 | Train F1: 88.23% | Train rec: 88.28% | Train acc: 88.28%\n",
            "Epoch: 06 | Epoch Time: 0m 2s\n",
            "\tTrain Loss: 0.203 | Train F1: 83.15% | Train rec: 82.94% | Train acc: 82.94%\n",
            "Epoch: 07 | Epoch Time: 0m 2s\n",
            "\tTrain Loss: 0.174 | Train F1: 82.54% | Train rec: 80.51% | Train acc: 80.51%\n",
            "Epoch: 08 | Epoch Time: 0m 2s\n",
            "\tTrain Loss: 0.174 | Train F1: 88.13% | Train rec: 88.50% | Train acc: 88.50%\n",
            "Epoch: 09 | Epoch Time: 0m 2s\n",
            "\tTrain Loss: 0.142 | Train F1: 91.07% | Train rec: 90.67% | Train acc: 90.67%\n",
            "Epoch: 10 | Epoch Time: 0m 2s\n",
            "\tTrain Loss: 0.162 | Train F1: 90.31% | Train rec: 89.71% | Train acc: 89.71%\n",
            "Epoch: 11 | Epoch Time: 0m 2s\n",
            "\tTrain Loss: 0.154 | Train F1: 92.62% | Train rec: 92.75% | Train acc: 92.75%\n",
            "Epoch: 12 | Epoch Time: 0m 2s\n",
            "\tTrain Loss: 0.134 | Train F1: 86.85% | Train rec: 85.89% | Train acc: 85.89%\n",
            "--------------------------------\n",
            "0.5353276422494581 53.53276422494581\n",
            "Epoch: 01 | Epoch Time: 0m 2s\n",
            "\tValid Loss: 4.410 | Valid F1: 54.77% | Valid rec: 59.31% | Valid acc: 59.31%\n",
            "\tTrain Loss: 0.131 | Train F1: 89.79% | Train rec: 89.11% | Train acc: 89.11%\n",
            "Epoch: 02 | Epoch Time: 0m 2s\n",
            "\tTrain Loss: 0.105 | Train F1: 95.38% | Train rec: 95.49% | Train acc: 95.49%\n",
            "Epoch: 03 | Epoch Time: 0m 2s\n",
            "\tTrain Loss: 0.084 | Train F1: 96.01% | Train rec: 95.75% | Train acc: 95.75%\n",
            "Epoch: 04 | Epoch Time: 0m 2s\n",
            "\tTrain Loss: 0.091 | Train F1: 94.27% | Train rec: 94.01% | Train acc: 94.01%\n",
            "Epoch: 05 | Epoch Time: 0m 2s\n",
            "\tTrain Loss: 0.058 | Train F1: 98.94% | Train rec: 98.91% | Train acc: 98.91%\n",
            "Epoch: 06 | Epoch Time: 0m 2s\n",
            "\tTrain Loss: 0.050 | Train F1: 99.22% | Train rec: 99.22% | Train acc: 99.22%\n",
            "Epoch: 07 | Epoch Time: 0m 2s\n",
            "\tTrain Loss: 0.044 | Train F1: 97.89% | Train rec: 97.83% | Train acc: 97.83%\n",
            "Epoch: 08 | Epoch Time: 0m 2s\n",
            "\tTrain Loss: 0.045 | Train F1: 97.33% | Train rec: 97.27% | Train acc: 97.27%\n",
            "Epoch: 09 | Epoch Time: 0m 2s\n",
            "\tTrain Loss: 0.023 | Train F1: 100.00% | Train rec: 100.00% | Train acc: 100.00%\n",
            "Epoch: 10 | Epoch Time: 0m 2s\n",
            "\tTrain Loss: 0.029 | Train F1: 99.62% | Train rec: 99.61% | Train acc: 99.61%\n",
            "Epoch: 11 | Epoch Time: 0m 2s\n",
            "\tTrain Loss: 0.023 | Train F1: 98.85% | Train rec: 98.83% | Train acc: 98.83%\n",
            "Epoch: 12 | Epoch Time: 0m 2s\n",
            "\tTrain Loss: 0.021 | Train F1: 99.23% | Train rec: 99.22% | Train acc: 99.22%\n",
            "--------------------------------\n",
            "0.5477196389693848 54.77196389693848\n",
            "Epoch: 01 | Epoch Time: 0m 2s\n",
            "\tValid Loss: 4.902 | Valid F1: 52.95% | Valid rec: 55.29% | Valid acc: 55.29%\n",
            "\tTrain Loss: 0.018 | Train F1: 99.61% | Train rec: 99.61% | Train acc: 99.61%\n",
            "Epoch: 02 | Epoch Time: 0m 2s\n",
            "\tTrain Loss: 0.013 | Train F1: 100.00% | Train rec: 100.00% | Train acc: 100.00%\n",
            "Epoch: 03 | Epoch Time: 0m 2s\n",
            "\tTrain Loss: 0.011 | Train F1: 100.00% | Train rec: 100.00% | Train acc: 100.00%\n",
            "Epoch: 04 | Epoch Time: 0m 2s\n",
            "\tTrain Loss: 0.010 | Train F1: 99.62% | Train rec: 99.61% | Train acc: 99.61%\n",
            "Epoch: 05 | Epoch Time: 0m 2s\n",
            "\tTrain Loss: 0.012 | Train F1: 100.00% | Train rec: 100.00% | Train acc: 100.00%\n",
            "Epoch: 06 | Epoch Time: 0m 2s\n",
            "\tTrain Loss: 0.012 | Train F1: 99.62% | Train rec: 99.61% | Train acc: 99.61%\n",
            "Epoch: 07 | Epoch Time: 0m 2s\n",
            "\tTrain Loss: 0.020 | Train F1: 98.85% | Train rec: 98.83% | Train acc: 98.83%\n",
            "Epoch: 08 | Epoch Time: 0m 2s\n",
            "\tTrain Loss: 0.010 | Train F1: 100.00% | Train rec: 100.00% | Train acc: 100.00%\n",
            "Epoch: 09 | Epoch Time: 0m 2s\n",
            "\tTrain Loss: 0.008 | Train F1: 100.00% | Train rec: 100.00% | Train acc: 100.00%\n",
            "Epoch: 10 | Epoch Time: 0m 2s\n",
            "\tTrain Loss: 0.009 | Train F1: 100.00% | Train rec: 100.00% | Train acc: 100.00%\n",
            "Epoch: 11 | Epoch Time: 0m 2s\n",
            "\tTrain Loss: 0.013 | Train F1: 100.00% | Train rec: 100.00% | Train acc: 100.00%\n",
            "Epoch: 12 | Epoch Time: 0m 2s\n",
            "\tTrain Loss: 0.007 | Train F1: 100.00% | Train rec: 100.00% | Train acc: 100.00%\n",
            "--------------------------------\n",
            "0.5294640171956383 52.94640171956383\n",
            "Epoch: 01 | Epoch Time: 0m 2s\n",
            "\tValid Loss: 4.951 | Valid F1: 51.60% | Valid rec: 52.05% | Valid acc: 52.05%\n",
            "\tTrain Loss: 0.011 | Train F1: 99.32% | Train rec: 99.31% | Train acc: 99.31%\n",
            "Epoch: 02 | Epoch Time: 0m 2s\n",
            "\tValid Loss: 5.405 | Valid F1: 53.97% | Valid rec: 57.58% | Valid acc: 57.58%\n",
            "\tTrain Loss: 0.008 | Train F1: 100.00% | Train rec: 100.00% | Train acc: 100.00%\n",
            "Epoch: 03 | Epoch Time: 0m 2s\n",
            "\tValid Loss: 5.418 | Valid F1: 54.31% | Valid rec: 58.45% | Valid acc: 58.45%\n",
            "\tTrain Loss: 0.022 | Train F1: 99.30% | Train rec: 99.31% | Train acc: 99.31%\n",
            "Epoch: 04 | Epoch Time: 0m 2s\n",
            "\tTrain Loss: 0.006 | Train F1: 100.00% | Train rec: 100.00% | Train acc: 100.00%\n",
            "Epoch: 05 | Epoch Time: 0m 2s\n",
            "\tTrain Loss: 0.007 | Train F1: 100.00% | Train rec: 100.00% | Train acc: 100.00%\n",
            "Epoch: 06 | Epoch Time: 0m 2s\n",
            "\tTrain Loss: 0.016 | Train F1: 99.25% | Train rec: 99.22% | Train acc: 99.22%\n",
            "Epoch: 07 | Epoch Time: 0m 2s\n",
            "\tTrain Loss: 0.012 | Train F1: 98.94% | Train rec: 98.91% | Train acc: 98.91%\n",
            "Epoch: 08 | Epoch Time: 0m 2s\n",
            "\tTrain Loss: 0.008 | Train F1: 99.32% | Train rec: 99.31% | Train acc: 99.31%\n",
            "Epoch: 09 | Epoch Time: 0m 2s\n",
            "\tTrain Loss: 0.006 | Train F1: 100.00% | Train rec: 100.00% | Train acc: 100.00%\n",
            "Epoch: 10 | Epoch Time: 0m 2s\n",
            "\tTrain Loss: 0.004 | Train F1: 100.00% | Train rec: 100.00% | Train acc: 100.00%\n",
            "Epoch: 11 | Epoch Time: 0m 2s\n",
            "\tValid Loss: 5.796 | Valid F1: 54.49% | Valid rec: 59.53% | Valid acc: 59.53%\n",
            "\tTrain Loss: 0.007 | Train F1: 100.00% | Train rec: 100.00% | Train acc: 100.00%\n",
            "Epoch: 12 | Epoch Time: 0m 2s\n",
            "\tValid Loss: 5.868 | Valid F1: 54.56% | Valid rec: 59.61% | Valid acc: 59.61%\n",
            "\tTrain Loss: 0.004 | Train F1: 100.00% | Train rec: 100.00% | Train acc: 100.00%\n",
            "--------------------------------\n",
            "0.5456046989987465 54.560469899874654\n",
            "Epoch: 01 | Epoch Time: 0m 2s\n",
            "\tValid Loss: 5.743 | Valid F1: 54.00% | Valid rec: 57.93% | Valid acc: 57.93%\n",
            "\tTrain Loss: 0.005 | Train F1: 100.00% | Train rec: 100.00% | Train acc: 100.00%\n",
            "Epoch: 02 | Epoch Time: 0m 2s\n",
            "\tTrain Loss: 0.006 | Train F1: 100.00% | Train rec: 100.00% | Train acc: 100.00%\n",
            "Epoch: 03 | Epoch Time: 0m 2s\n",
            "\tTrain Loss: 0.007 | Train F1: 100.00% | Train rec: 100.00% | Train acc: 100.00%\n",
            "Epoch: 04 | Epoch Time: 0m 2s\n",
            "\tTrain Loss: 0.007 | Train F1: 100.00% | Train rec: 100.00% | Train acc: 100.00%\n",
            "Epoch: 05 | Epoch Time: 0m 2s\n",
            "\tTrain Loss: 0.007 | Train F1: 99.61% | Train rec: 99.61% | Train acc: 99.61%\n",
            "Epoch: 06 | Epoch Time: 0m 2s\n",
            "\tTrain Loss: 0.005 | Train F1: 100.00% | Train rec: 100.00% | Train acc: 100.00%\n",
            "Epoch: 07 | Epoch Time: 0m 2s\n",
            "\tTrain Loss: 0.003 | Train F1: 100.00% | Train rec: 100.00% | Train acc: 100.00%\n",
            "Epoch: 08 | Epoch Time: 0m 2s\n",
            "\tTrain Loss: 0.003 | Train F1: 100.00% | Train rec: 100.00% | Train acc: 100.00%\n",
            "Epoch: 09 | Epoch Time: 0m 2s\n",
            "\tValid Loss: 5.824 | Valid F1: 54.09% | Valid rec: 58.95% | Valid acc: 58.95%\n",
            "\tTrain Loss: 0.004 | Train F1: 100.00% | Train rec: 100.00% | Train acc: 100.00%\n",
            "Epoch: 10 | Epoch Time: 0m 2s\n",
            "\tTrain Loss: 0.003 | Train F1: 100.00% | Train rec: 100.00% | Train acc: 100.00%\n",
            "Epoch: 11 | Epoch Time: 0m 2s\n",
            "\tTrain Loss: 0.003 | Train F1: 100.00% | Train rec: 100.00% | Train acc: 100.00%\n",
            "Epoch: 12 | Epoch Time: 0m 2s\n",
            "\tTrain Loss: 0.008 | Train F1: 100.00% | Train rec: 100.00% | Train acc: 100.00%\n",
            "--------------------------------\n",
            "0.5408861215840379 54.08861215840379\n",
            "Epoch: 01 | Epoch Time: 0m 2s\n",
            "\tValid Loss: 5.192 | Valid F1: 45.66% | Valid rec: 43.23% | Valid acc: 43.23%\n",
            "\tTrain Loss: 0.003 | Train F1: 100.00% | Train rec: 100.00% | Train acc: 100.00%\n",
            "Epoch: 02 | Epoch Time: 0m 2s\n",
            "\tValid Loss: 4.992 | Valid F1: 49.83% | Valid rec: 49.10% | Valid acc: 49.10%\n",
            "\tTrain Loss: 0.050 | Train F1: 99.22% | Train rec: 99.22% | Train acc: 99.22%\n",
            "Epoch: 03 | Epoch Time: 0m 2s\n",
            "\tTrain Loss: 0.004 | Train F1: 100.00% | Train rec: 100.00% | Train acc: 100.00%\n",
            "Epoch: 04 | Epoch Time: 0m 2s\n",
            "\tValid Loss: 5.298 | Valid F1: 51.62% | Valid rec: 54.09% | Valid acc: 54.09%\n",
            "\tTrain Loss: 0.030 | Train F1: 98.88% | Train rec: 98.83% | Train acc: 98.83%\n",
            "Epoch: 05 | Epoch Time: 0m 2s\n",
            "\tValid Loss: 5.606 | Valid F1: 53.80% | Valid rec: 57.48% | Valid acc: 57.48%\n",
            "\tTrain Loss: 0.006 | Train F1: 100.00% | Train rec: 100.00% | Train acc: 100.00%\n",
            "Epoch: 06 | Epoch Time: 0m 2s\n",
            "\tValid Loss: 5.715 | Valid F1: 54.23% | Valid rec: 57.34% | Valid acc: 57.34%\n",
            "\tTrain Loss: 0.006 | Train F1: 100.00% | Train rec: 100.00% | Train acc: 100.00%\n",
            "Epoch: 07 | Epoch Time: 0m 2s\n",
            "\tValid Loss: 5.761 | Valid F1: 54.40% | Valid rec: 57.86% | Valid acc: 57.86%\n",
            "\tTrain Loss: 0.017 | Train F1: 99.61% | Train rec: 99.61% | Train acc: 99.61%\n",
            "Epoch: 08 | Epoch Time: 0m 2s\n",
            "\tTrain Loss: 0.007 | Train F1: 100.00% | Train rec: 100.00% | Train acc: 100.00%\n",
            "Epoch: 09 | Epoch Time: 0m 2s\n",
            "\tTrain Loss: 0.003 | Train F1: 100.00% | Train rec: 100.00% | Train acc: 100.00%\n",
            "Epoch: 10 | Epoch Time: 0m 2s\n",
            "\tTrain Loss: 0.006 | Train F1: 100.00% | Train rec: 100.00% | Train acc: 100.00%\n",
            "Epoch: 11 | Epoch Time: 0m 2s\n",
            "\tTrain Loss: 0.006 | Train F1: 99.62% | Train rec: 99.61% | Train acc: 99.61%\n",
            "Epoch: 12 | Epoch Time: 0m 2s\n",
            "\tTrain Loss: 0.009 | Train F1: 99.32% | Train rec: 99.31% | Train acc: 99.31%\n",
            "--------------------------------\n",
            "0.5440431941810235 54.404319418102354\n"
          ],
          "name": "stdout"
        },
        {
          "output_type": "error",
          "ename": "KeyboardInterrupt",
          "evalue": "ignored",
          "traceback": [
            "\u001b[0;31m---------------------------------------------------------------------------\u001b[0m",
            "\u001b[0;31mKeyboardInterrupt\u001b[0m                         Traceback (most recent call last)",
            "\u001b[0;32m<ipython-input-15-8fedf214997f>\u001b[0m in \u001b[0;36m<module>\u001b[0;34m()\u001b[0m\n\u001b[1;32m      7\u001b[0m \u001b[0;32mfor\u001b[0m \u001b[0mk\u001b[0m \u001b[0;32min\u001b[0m \u001b[0mrange\u001b[0m\u001b[0;34m(\u001b[0m\u001b[0;36m0\u001b[0m\u001b[0;34m,\u001b[0m \u001b[0;36m10\u001b[0m\u001b[0;34m)\u001b[0m\u001b[0;34m:\u001b[0m\u001b[0;34m\u001b[0m\u001b[0;34m\u001b[0m\u001b[0m\n\u001b[1;32m      8\u001b[0m   \u001b[0mfield1\u001b[0m \u001b[0;34m=\u001b[0m \u001b[0;34m{\u001b[0m\u001b[0;34m(\u001b[0m\u001b[0;34m'text'\u001b[0m\u001b[0;34m,\u001b[0m \u001b[0mTEXT2\u001b[0m\u001b[0;34m)\u001b[0m\u001b[0;34m,\u001b[0m\u001b[0;34m(\u001b[0m\u001b[0;34m'label'\u001b[0m\u001b[0;34m,\u001b[0m \u001b[0mLABEL2\u001b[0m\u001b[0;34m)\u001b[0m\u001b[0;34m,\u001b[0m \u001b[0;34m(\u001b[0m\u001b[0;34m'index'\u001b[0m\u001b[0;34m,\u001b[0m \u001b[0mINDEX2\u001b[0m\u001b[0;34m)\u001b[0m\u001b[0;34m}\u001b[0m\u001b[0;34m\u001b[0m\u001b[0;34m\u001b[0m\u001b[0m\n\u001b[0;32m----> 9\u001b[0;31m   \u001b[0mto_data\u001b[0m \u001b[0;34m=\u001b[0m  \u001b[0mdata\u001b[0m\u001b[0;34m.\u001b[0m\u001b[0mDataset\u001b[0m\u001b[0;34m(\u001b[0m\u001b[0mtrain_data_arr\u001b[0m\u001b[0;34m[\u001b[0m\u001b[0mget_train_entropy_data\u001b[0m\u001b[0;34m(\u001b[0m\u001b[0mmodel\u001b[0m\u001b[0;34m,\u001b[0m \u001b[0mtrain_iterator\u001b[0m\u001b[0;34m,\u001b[0m \u001b[0mtrain_data\u001b[0m\u001b[0;34m)\u001b[0m\u001b[0;34m]\u001b[0m\u001b[0;34m,\u001b[0m \u001b[0mfields\u001b[0m\u001b[0;34m=\u001b[0m\u001b[0mfield1\u001b[0m\u001b[0;34m)\u001b[0m\u001b[0;34m\u001b[0m\u001b[0;34m\u001b[0m\u001b[0m\n\u001b[0m\u001b[1;32m     10\u001b[0m   TEXT2.build_vocab(to_data, \n\u001b[1;32m     11\u001b[0m                   \u001b[0mvectors\u001b[0m \u001b[0;34m=\u001b[0m \u001b[0;34m\"fasttext.simple.300d\"\u001b[0m\u001b[0;34m,\u001b[0m\u001b[0;34m\u001b[0m\u001b[0;34m\u001b[0m\u001b[0m\n",
            "\u001b[0;32m<ipython-input-14-84441e6c24bc>\u001b[0m in \u001b[0;36mget_train_entropy_data\u001b[0;34m(model, train_iterator, train_data)\u001b[0m\n\u001b[1;32m     23\u001b[0m       \u001b[0;32mfor\u001b[0m \u001b[0mi_2\u001b[0m \u001b[0;32min\u001b[0m \u001b[0mrange\u001b[0m\u001b[0;34m(\u001b[0m\u001b[0;36m0\u001b[0m\u001b[0;34m,\u001b[0m \u001b[0mlen\u001b[0m\u001b[0;34m(\u001b[0m\u001b[0mtrain_data_arr\u001b[0m\u001b[0;34m)\u001b[0m\u001b[0;34m)\u001b[0m\u001b[0;34m:\u001b[0m\u001b[0;34m\u001b[0m\u001b[0;34m\u001b[0m\u001b[0m\n\u001b[1;32m     24\u001b[0m         \u001b[0mprint\u001b[0m\u001b[0;34m\u001b[0m\u001b[0;34m\u001b[0m\u001b[0m\n\u001b[0;32m---> 25\u001b[0;31m         \u001b[0;32mif\u001b[0m\u001b[0;34m(\u001b[0m \u001b[0mi_1\u001b[0m \u001b[0;34m==\u001b[0m \u001b[0mvars\u001b[0m\u001b[0;34m(\u001b[0m\u001b[0mtrain_data_arr\u001b[0m\u001b[0;34m[\u001b[0m\u001b[0mi_2\u001b[0m\u001b[0;34m]\u001b[0m\u001b[0;34m)\u001b[0m\u001b[0;34m[\u001b[0m\u001b[0;34m'index'\u001b[0m\u001b[0;34m]\u001b[0m\u001b[0;34m)\u001b[0m\u001b[0;34m:\u001b[0m\u001b[0;34m\u001b[0m\u001b[0;34m\u001b[0m\u001b[0m\n\u001b[0m\u001b[1;32m     26\u001b[0m           \u001b[0mtrain_id\u001b[0m\u001b[0;34m.\u001b[0m\u001b[0mappend\u001b[0m\u001b[0;34m(\u001b[0m\u001b[0mi_2\u001b[0m\u001b[0;34m)\u001b[0m\u001b[0;34m\u001b[0m\u001b[0;34m\u001b[0m\u001b[0m\n\u001b[1;32m     27\u001b[0m     \u001b[0;32mreturn\u001b[0m \u001b[0mtrain_id\u001b[0m\u001b[0;34m\u001b[0m\u001b[0;34m\u001b[0m\u001b[0m\n",
            "\u001b[0;31mKeyboardInterrupt\u001b[0m: "
          ]
        }
      ]
    },
    {
      "cell_type": "code",
      "metadata": {
        "id": "TXRtoU5bcG5B"
      },
      "source": [
        "torch.save(model.state_dict(), '/content/drive/MyDrive/mo_feated_entropy.pt')"
      ],
      "execution_count": 16,
      "outputs": []
    },
    {
      "cell_type": "code",
      "metadata": {
        "colab": {
          "base_uri": "https://localhost:8080/",
          "height": 298
        },
        "id": "HLVEXbJvkB8X",
        "outputId": "e2f1a679-49b3-48cd-8d34-a3c714512f02"
      },
      "source": [
        "print(best_plot)\n",
        "x_point = []\n",
        "for temp in (range(1,10)):\n",
        "  x_point.append(temp)\n",
        "print(x_point)\n",
        "import matplotlib.pyplot as plt\n",
        "fig, ax = plt.subplots()\n",
        "ax.plot(x_point, best_plot)\n",
        "plt.show()"
      ],
      "execution_count": 24,
      "outputs": [
        {
          "output_type": "stream",
          "text": [
            "[43.635752852636664, 54.506753826984976, 53.22678241319655, 53.53276422494581, 54.77196389693848, 52.94640171956383, 54.560469899874654, 54.08861215840379, 54.404319418102354]\n",
            "[1, 2, 3, 4, 5, 6, 7, 8, 9]\n"
          ],
          "name": "stdout"
        },
        {
          "output_type": "display_data",
          "data": {
            "image/png": "[encoded data removed]",
            "text/plain": [
              "<Figure size 432x288 with 1 Axes>"
            ]
          },
          "metadata": {
            "tags": [],
            "needs_background": "light"
          }
        }
      ]
    },
    {
      "cell_type": "code",
      "metadata": {
        "id": "9qoZquyVM6nF"
      },
      "source": [
        ""
      ],
      "execution_count": null,
      "outputs": []
    }
  ]
}