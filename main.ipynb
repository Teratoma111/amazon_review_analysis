{
  "nbformat": 4,
  "nbformat_minor": 0,
  "metadata": {
    "kernelspec": {
      "display_name": "Python 3",
      "language": "python",
      "name": "python3"
    },
    "language_info": {
      "codemirror_mode": {
        "name": "ipython",
        "version": 3
      },
      "file_extension": ".py",
      "mimetype": "text/x-python",
      "name": "python",
      "nbconvert_exporter": "python",
      "pygments_lexer": "ipython3",
      "version": "3.8.5"
    },
    "colab": {
      "name": "main.ipynb",
      "provenance": [],
      "collapsed_sections": [],
      "include_colab_link": true
    },
    "accelerator": "GPU"
  },
  "cells": [
    {
      "cell_type": "markdown",
      "metadata": {
        "id": "view-in-github",
        "colab_type": "text"
      },
      "source": [
        "<a href=\"https://colab.research.google.com/github/Teratoma111/amazon_review_analysis/blob/main/main.ipynb\" target=\"_parent\"><img src=\"https://colab.research.google.com/assets/colab-badge.svg\" alt=\"Open In Colab\"/></a>"
      ]
    },
    {
      "cell_type": "code",
      "metadata": {
        "id": "enO8G0rA0B-a"
      },
      "source": [
        "\n",
        "def generate_bigrams(x):\n",
        "    n_grams = set(zip(*[x[i:] for i in range(2)]))\n",
        "    for n_gram in n_grams:\n",
        "        x.append(' '.join(n_gram))\n",
        "    return x"
      ],
      "execution_count": null,
      "outputs": []
    },
    {
      "cell_type": "code",
      "metadata": {
        "id": "DVQ_wi5z0B-h"
      },
      "source": [
        "import torch\n",
        "from torchtext.legacy import data\n",
        "from torchtext.legacy import datasets\n",
        "import numpy as np  \n",
        "SEED = 42\n",
        "\n",
        "torch.manual_seed(SEED)\n",
        "torch.backends.cudnn.deterministic = True\n",
        "\n",
        "TEXT = data.Field(include_lengths = True,\n",
        "                  preprocessing = generate_bigrams)\n",
        "\n",
        "LABEL = data.LabelField()"
      ],
      "execution_count": null,
      "outputs": []
    },
    {
      "cell_type": "code",
      "metadata": {
        "colab": {
          "base_uri": "https://localhost:8080/"
        },
        "id": "yINvg_vMq-MJ",
        "outputId": "228f2bb2-1c8f-42ee-a185-6fc72076843a"
      },
      "source": [
        "from google.colab import drive\n",
        "drive.mount('/content/drive')"
      ],
      "execution_count": null,
      "outputs": [
        {
          "output_type": "stream",
          "text": [
            "Drive already mounted at /content/drive; to attempt to forcibly remount, call drive.mount(\"/content/drive\", force_remount=True).\n"
          ],
          "name": "stdout"
        }
      ]
    },
    {
      "cell_type": "code",
      "metadata": {
        "id": "LFRO_nIh0B-i"
      },
      "source": [
        "import random\n",
        "\n",
        "fields = {'reviewText': ('text', TEXT), 'overall': ('label', LABEL)}\n",
        "train_data= data.TabularDataset.splits(\n",
        "                                        path = '/content/drive/MyDrive',\n",
        "                                        train = \"Musical_Instruments_5.json\",\n",
        "                                        format = 'json',\n",
        "                                        fields = fields)[0]\n",
        "for i in range(0, len(train_data)):\n",
        "  if(len(train_data[i].text) < 1):\n",
        "    train_data[i].text = train_data[3].text\n",
        "    train_data[i].label = train_data[3].label"
      ],
      "execution_count": null,
      "outputs": []
    },
    {
      "cell_type": "code",
      "metadata": {
        "id": "koBZp5VY3f0t"
      },
      "source": [
        "train_data, valid_data = train_data.split(random_state = random.seed(SEED))\n",
        "test_data = valid_data"
      ],
      "execution_count": null,
      "outputs": []
    },
    {
      "cell_type": "code",
      "metadata": {
        "id": "UbHV7qx40B-k"
      },
      "source": [
        "\n",
        "\n",
        "TEXT.build_vocab(train_data, \n",
        "                 max_size = 30000,\n",
        "                 vectors = \"fasttext.simple.300d\", \n",
        "                 unk_init = torch.Tensor.normal_)\n",
        "\n",
        "LABEL.build_vocab(train_data)"
      ],
      "execution_count": null,
      "outputs": []
    },
    {
      "cell_type": "code",
      "metadata": {
        "id": "iL7RcfRD0B-l"
      },
      "source": [
        "BATCH_SIZE = 128\n",
        "\n",
        "device = torch.device('cuda' if torch.cuda.is_available() else 'cpu')\n",
        "\n",
        "train_iterator, valid_iterator, test_iterator = data.BucketIterator.splits(\n",
        "    (train_data, valid_data, test_data), \n",
        "    batch_size = BATCH_SIZE,\n",
        "    sort_key = lambda x: len(x.text),\n",
        "    #sort_within_batch = False,\n",
        "    sort_within_batch = True, \n",
        "    device = device)"
      ],
      "execution_count": null,
      "outputs": []
    },
    {
      "cell_type": "code",
      "metadata": {
        "id": "GJrsI5BB0B-n"
      },
      "source": [
        "import torch.nn as nn\n",
        "\n",
        "class RNN(nn.Module):\n",
        "    def __init__(self, vocab_size, embedding_dim, hidden_dim, output_dim, n_layers, \n",
        "                 bidirectional, dropout, pad_idx):\n",
        "        \n",
        "        super().__init__()\n",
        "        \n",
        "        self.embedding = nn.Embedding(vocab_size, embedding_dim, padding_idx = pad_idx)\n",
        "        \n",
        "        self.rnn = nn.LSTM(embedding_dim, \n",
        "                           hidden_dim, \n",
        "                           num_layers=n_layers, \n",
        "                           bidirectional=bidirectional, \n",
        "                           dropout=dropout)\n",
        "        \n",
        "        self.fc = nn.Linear(hidden_dim * 2, output_dim)\n",
        "        \n",
        "        self.dropout = nn.Dropout(dropout)\n",
        "        \n",
        "    def forward(self, text, text_lengths):\n",
        "        \n",
        "        embedded = self.dropout(self.embedding(text))\n",
        "        \n",
        "        packed_embedded = nn.utils.rnn.pack_padded_sequence(embedded, text_lengths.to('cpu'))\n",
        "        \n",
        "        packed_output, (hidden, cell) = self.rnn(packed_embedded)\n",
        "        output, output_lengths = nn.utils.rnn.pad_packed_sequence(packed_output)\n",
        "        hidden = self.dropout(torch.cat((hidden[-2,:,:], hidden[-1,:,:]), dim = 1))\n",
        "\n",
        "        return self.fc(hidden)"
      ],
      "execution_count": null,
      "outputs": []
    },
    {
      "cell_type": "code",
      "metadata": {
        "id": "dpM681-KKDec"
      },
      "source": [
        "INPUT_DIM = len(TEXT.vocab)\n",
        "EMBEDDING_DIM = 300\n",
        "HIDDEN_DIM = 256\n",
        "OUTPUT_DIM = len(LABEL.vocab)\n",
        "N_LAYERS = 2\n",
        "BIDIRECTIONAL = False\n",
        "DROPOUT = 0.65\n",
        "PAD_IDX = TEXT.vocab.stoi[TEXT.pad_token]\n",
        "\n",
        "model = RNN(INPUT_DIM, \n",
        "            EMBEDDING_DIM, \n",
        "            HIDDEN_DIM, \n",
        "            OUTPUT_DIM, \n",
        "            N_LAYERS, \n",
        "            BIDIRECTIONAL, \n",
        "            DROPOUT, \n",
        "            PAD_IDX)"
      ],
      "execution_count": null,
      "outputs": []
    },
    {
      "cell_type": "code",
      "metadata": {
        "id": "d4tcvC7_0B-s"
      },
      "source": [
        "pretrained_embeddings = TEXT.vocab.vectors\n",
        "\n",
        "model.embedding.weight.data.copy_(pretrained_embeddings)\n",
        "UNK_IDX = TEXT.vocab.stoi[TEXT.unk_token]\n",
        "\n",
        "model.embedding.weight.data[UNK_IDX] = torch.zeros(EMBEDDING_DIM)\n",
        "model.embedding.weight.data[PAD_IDX] = torch.zeros(EMBEDDING_DIM)"
      ],
      "execution_count": null,
      "outputs": []
    },
    {
      "cell_type": "code",
      "metadata": {
        "id": "3naOuqkkVGOL"
      },
      "source": [
        "def get_weights(iterator):\n",
        "  weights = torch.zeros(len(LABEL.vocab))\n",
        "  for batch in iterator:\n",
        "    for i in batch.label:\n",
        "      weights[i.cpu().numpy()] +=1\n",
        "  for i in range(0, len(LABEL.vocab)):\n",
        "    weights[i] = (1 / weights[i]) * 100\n",
        "  return weights"
      ],
      "execution_count": null,
      "outputs": []
    },
    {
      "cell_type": "code",
      "metadata": {
        "colab": {
          "base_uri": "https://localhost:8080/"
        },
        "id": "PFgKxNI1V9Lh",
        "outputId": "79cf1577-d3b7-4f7f-c42e-3b373441d1d8"
      },
      "source": [
        "print(get_weights(train_iterator))"
      ],
      "execution_count": null,
      "outputs": [
        {
          "output_type": "stream",
          "text": [
            "tensor([0.0205, 0.0692, 0.1838, 0.5882, 0.6993])\n"
          ],
          "name": "stdout"
        }
      ]
    },
    {
      "cell_type": "code",
      "metadata": {
        "id": "PRVnqEyp0B-u"
      },
      "source": [
        "import torch.optim as optim\n",
        "\n",
        "optimizer = optim.Adam(model.parameters())\n",
        "\n",
        "criterion = nn.CrossEntropyLoss(weight =  get_weights(train_iterator))\n",
        "\n",
        "model = model.to(device)\n",
        "criterion = criterion.to(device)"
      ],
      "execution_count": null,
      "outputs": []
    },
    {
      "cell_type": "code",
      "metadata": {
        "id": "lMW4vXGF0B-v"
      },
      "source": [
        "from sklearn.metrics import f1_score\n",
        "def categorical_accuracy(preds, y):\n",
        "    top_pred = preds.argmax(1, keepdim = True)\n",
        "    y_score = top_pred.detach().cpu().numpy()\n",
        "    y_true = y.view_as(top_pred).cpu().numpy()\n",
        "    rec = f1_score(y_true, y_score, average = 'weighted')\n",
        "    return rec"
      ],
      "execution_count": null,
      "outputs": []
    },
    {
      "cell_type": "code",
      "metadata": {
        "id": "D7AKQQV60B-v"
      },
      "source": [
        "def train(model, iterator, optimizer, criterion):\n",
        "    \n",
        "    epoch_loss = 0\n",
        "    epoch_acc = 0\n",
        "    \n",
        "    model.train()\n",
        "    \n",
        "    for batch in iterator:\n",
        "        \n",
        "        optimizer.zero_grad()\n",
        "        \n",
        "        text, text_lengths = batch.text\n",
        "        \n",
        "        predictions = model(text, text_lengths).squeeze(1)\n",
        "        \n",
        "        loss = criterion(predictions, batch.label)\n",
        "        \n",
        "        acc = categorical_accuracy(predictions, batch.label)\n",
        "        \n",
        "        loss.backward()\n",
        "        \n",
        "        optimizer.step()\n",
        "        \n",
        "        epoch_loss += loss.item()\n",
        "        epoch_acc += acc.item()\n",
        "        \n",
        "    return epoch_loss / len(iterator), epoch_acc / len(iterator)"
      ],
      "execution_count": null,
      "outputs": []
    },
    {
      "cell_type": "code",
      "metadata": {
        "id": "_cvseorx0B-w"
      },
      "source": [
        "def evaluate(model, iterator, criterion):\n",
        "    \n",
        "    epoch_loss = 0\n",
        "    epoch_acc = 0\n",
        "    \n",
        "    model.eval()\n",
        "    \n",
        "    with torch.no_grad():\n",
        "    \n",
        "        for batch in iterator:\n",
        "\n",
        "            text, text_lengths = batch.text\n",
        "            \n",
        "            predictions = model(text, text_lengths).squeeze(1)\n",
        "            \n",
        "            loss = criterion(predictions, batch.label)\n",
        "            \n",
        "            acc = categorical_accuracy(predictions, batch.label)\n",
        "\n",
        "            epoch_loss += loss.item()\n",
        "            epoch_acc += acc.item()\n",
        "        \n",
        "    return epoch_loss / len(iterator), epoch_acc / len(iterator)"
      ],
      "execution_count": null,
      "outputs": []
    },
    {
      "cell_type": "code",
      "metadata": {
        "id": "NfyZOOQP0B-x"
      },
      "source": [
        "import time\n",
        "\n",
        "def epoch_time(start_time, end_time):\n",
        "    elapsed_time = end_time - start_time\n",
        "    elapsed_mins = int(elapsed_time / 60)\n",
        "    elapsed_secs = int(elapsed_time - (elapsed_mins * 60))\n",
        "    return elapsed_mins, elapsed_secs"
      ],
      "execution_count": null,
      "outputs": []
    },
    {
      "cell_type": "code",
      "metadata": {
        "id": "gxUdLN7a0B-y",
        "colab": {
          "base_uri": "https://localhost:8080/"
        },
        "outputId": "a843c12e-8010-41e5-9cae-890317415965"
      },
      "source": [
        "N_EPOCHS = 60\n",
        "\n",
        "best_valid_score = float('0')\n",
        "\n",
        "for epoch in range(N_EPOCHS):\n",
        "\n",
        "    start_time = time.time()\n",
        "    \n",
        "    train_loss, train_score = train(model, train_iterator, optimizer, criterion)\n",
        "    valid_loss, valid_score = evaluate(model, valid_iterator, criterion)\n",
        "    \n",
        "    end_time = time.time()\n",
        "\n",
        "    epoch_mins, epoch_secs = epoch_time(start_time, end_time)\n",
        "    print(f'Epoch: {epoch+1:02} | Epoch Time: {epoch_mins}m {epoch_secs}s')\n",
        "    if valid_score > best_valid_score:\n",
        "        best_valid_score= valid_score\n",
        "        torch.save(model.state_dict(), 'model.pt')\n",
        "        print(f'\\t Val. Loss: {valid_loss:.3f} |  Val. F1 score {valid_score*100:.2f}%')\n",
        "    print(f'\\tTrain Loss: {train_loss:.3f} | Train F1 score: {train_score*100:.2f}%')"
      ],
      "execution_count": null,
      "outputs": [
        {
          "output_type": "stream",
          "text": [
            "Epoch: 01 | Epoch Time: 0m 11s\n",
            "\t Val. Loss: 1.608 |  Val. F1 score 44.68%\n",
            "\tTrain Loss: 1.618 | Train F1 score: 42.24%\n",
            "Epoch: 02 | Epoch Time: 0m 11s\n",
            "\tTrain Loss: 1.588 | Train F1 score: 39.65%\n",
            "Epoch: 03 | Epoch Time: 0m 11s\n",
            "\t Val. Loss: 1.653 |  Val. F1 score 48.15%\n",
            "\tTrain Loss: 1.554 | Train F1 score: 33.60%\n",
            "Epoch: 04 | Epoch Time: 0m 11s\n",
            "\tTrain Loss: 1.509 | Train F1 score: 38.48%\n",
            "Epoch: 05 | Epoch Time: 0m 11s\n",
            "\tTrain Loss: 1.449 | Train F1 score: 39.96%\n",
            "Epoch: 06 | Epoch Time: 0m 11s\n",
            "\tTrain Loss: 1.357 | Train F1 score: 36.24%\n",
            "Epoch: 07 | Epoch Time: 0m 11s\n",
            "\tTrain Loss: 1.326 | Train F1 score: 39.97%\n",
            "Epoch: 08 | Epoch Time: 0m 11s\n",
            "\tTrain Loss: 1.220 | Train F1 score: 38.88%\n",
            "Epoch: 09 | Epoch Time: 0m 11s\n",
            "\tTrain Loss: 1.163 | Train F1 score: 41.80%\n",
            "Epoch: 10 | Epoch Time: 0m 11s\n",
            "\tTrain Loss: 1.126 | Train F1 score: 44.01%\n",
            "Epoch: 11 | Epoch Time: 0m 11s\n",
            "\tTrain Loss: 1.051 | Train F1 score: 42.84%\n",
            "Epoch: 12 | Epoch Time: 0m 11s\n",
            "\t Val. Loss: 2.601 |  Val. F1 score 51.50%\n",
            "\tTrain Loss: 0.966 | Train F1 score: 45.66%\n",
            "Epoch: 13 | Epoch Time: 0m 11s\n",
            "\tTrain Loss: 0.942 | Train F1 score: 49.74%\n",
            "Epoch: 14 | Epoch Time: 0m 11s\n",
            "\tTrain Loss: 0.928 | Train F1 score: 48.43%\n",
            "Epoch: 15 | Epoch Time: 0m 11s\n",
            "\t Val. Loss: 2.928 |  Val. F1 score 53.08%\n",
            "\tTrain Loss: 0.878 | Train F1 score: 47.78%\n",
            "Epoch: 16 | Epoch Time: 0m 11s\n",
            "\tTrain Loss: 0.881 | Train F1 score: 48.86%\n",
            "Epoch: 17 | Epoch Time: 0m 11s\n",
            "\t Val. Loss: 3.047 |  Val. F1 score 54.95%\n",
            "\tTrain Loss: 0.791 | Train F1 score: 50.88%\n",
            "Epoch: 18 | Epoch Time: 0m 11s\n",
            "\tTrain Loss: 0.812 | Train F1 score: 50.83%\n",
            "Epoch: 19 | Epoch Time: 0m 11s\n",
            "\t Val. Loss: 3.723 |  Val. F1 score 56.41%\n",
            "\tTrain Loss: 0.760 | Train F1 score: 54.17%\n",
            "Epoch: 20 | Epoch Time: 0m 11s\n",
            "\tTrain Loss: 0.756 | Train F1 score: 51.91%\n",
            "Epoch: 21 | Epoch Time: 0m 11s\n",
            "\tTrain Loss: 0.713 | Train F1 score: 55.22%\n",
            "Epoch: 22 | Epoch Time: 0m 11s\n",
            "\t Val. Loss: 3.307 |  Val. F1 score 57.20%\n",
            "\tTrain Loss: 0.673 | Train F1 score: 54.53%\n",
            "Epoch: 23 | Epoch Time: 0m 11s\n",
            "\tTrain Loss: 0.683 | Train F1 score: 55.88%\n",
            "Epoch: 24 | Epoch Time: 0m 11s\n",
            "\tTrain Loss: 0.671 | Train F1 score: 53.66%\n",
            "Epoch: 25 | Epoch Time: 0m 11s\n",
            "\tTrain Loss: 0.658 | Train F1 score: 57.27%\n",
            "Epoch: 26 | Epoch Time: 0m 11s\n",
            "\tTrain Loss: 0.611 | Train F1 score: 58.05%\n",
            "Epoch: 27 | Epoch Time: 0m 11s\n",
            "\tTrain Loss: 0.564 | Train F1 score: 58.69%\n",
            "Epoch: 28 | Epoch Time: 0m 11s\n",
            "\tTrain Loss: 0.585 | Train F1 score: 58.77%\n",
            "Epoch: 29 | Epoch Time: 0m 11s\n",
            "\t Val. Loss: 4.010 |  Val. F1 score 57.40%\n",
            "\tTrain Loss: 0.548 | Train F1 score: 60.27%\n",
            "Epoch: 30 | Epoch Time: 0m 11s\n",
            "\t Val. Loss: 4.690 |  Val. F1 score 58.48%\n",
            "\tTrain Loss: 0.534 | Train F1 score: 60.91%\n",
            "Epoch: 31 | Epoch Time: 0m 11s\n",
            "\t Val. Loss: 4.534 |  Val. F1 score 58.68%\n",
            "\tTrain Loss: 0.514 | Train F1 score: 62.77%\n",
            "Epoch: 32 | Epoch Time: 0m 11s\n",
            "\t Val. Loss: 4.481 |  Val. F1 score 59.34%\n",
            "\tTrain Loss: 0.510 | Train F1 score: 61.10%\n",
            "Epoch: 33 | Epoch Time: 0m 11s\n",
            "\tTrain Loss: 0.502 | Train F1 score: 63.84%\n",
            "Epoch: 34 | Epoch Time: 0m 11s\n",
            "\tTrain Loss: 0.480 | Train F1 score: 64.14%\n",
            "Epoch: 35 | Epoch Time: 0m 11s\n",
            "\tTrain Loss: 0.463 | Train F1 score: 65.41%\n",
            "Epoch: 36 | Epoch Time: 0m 11s\n",
            "\tTrain Loss: 0.499 | Train F1 score: 65.15%\n",
            "Epoch: 37 | Epoch Time: 0m 11s\n",
            "\t Val. Loss: 4.671 |  Val. F1 score 59.37%\n",
            "\tTrain Loss: 0.468 | Train F1 score: 65.53%\n",
            "Epoch: 38 | Epoch Time: 0m 11s\n",
            "\t Val. Loss: 4.731 |  Val. F1 score 59.74%\n",
            "\tTrain Loss: 0.460 | Train F1 score: 66.62%\n",
            "Epoch: 39 | Epoch Time: 0m 11s\n",
            "\tTrain Loss: 0.439 | Train F1 score: 66.48%\n",
            "Epoch: 40 | Epoch Time: 0m 11s\n",
            "\tTrain Loss: 0.437 | Train F1 score: 67.47%\n",
            "Epoch: 41 | Epoch Time: 0m 11s\n",
            "\tTrain Loss: 0.396 | Train F1 score: 68.93%\n",
            "Epoch: 42 | Epoch Time: 0m 11s\n",
            "\tTrain Loss: 0.396 | Train F1 score: 69.19%\n",
            "Epoch: 43 | Epoch Time: 0m 11s\n",
            "\tTrain Loss: 0.380 | Train F1 score: 69.16%\n",
            "Epoch: 44 | Epoch Time: 0m 11s\n",
            "\tTrain Loss: 0.375 | Train F1 score: 69.68%\n",
            "Epoch: 45 | Epoch Time: 0m 11s\n",
            "\tTrain Loss: 0.360 | Train F1 score: 70.91%\n",
            "Epoch: 46 | Epoch Time: 0m 11s\n",
            "\tTrain Loss: 0.346 | Train F1 score: 72.38%\n",
            "Epoch: 47 | Epoch Time: 0m 11s\n",
            "\tTrain Loss: 0.380 | Train F1 score: 71.02%\n",
            "Epoch: 48 | Epoch Time: 0m 11s\n",
            "\tTrain Loss: 0.358 | Train F1 score: 72.09%\n",
            "Epoch: 49 | Epoch Time: 0m 11s\n",
            "\tTrain Loss: 0.350 | Train F1 score: 72.99%\n",
            "Epoch: 50 | Epoch Time: 0m 11s\n",
            "\tTrain Loss: 0.317 | Train F1 score: 74.64%\n",
            "Epoch: 51 | Epoch Time: 0m 11s\n",
            "\tTrain Loss: 0.337 | Train F1 score: 73.78%\n",
            "Epoch: 52 | Epoch Time: 0m 11s\n",
            "\tTrain Loss: 0.326 | Train F1 score: 74.45%\n",
            "Epoch: 53 | Epoch Time: 0m 11s\n",
            "\tTrain Loss: 0.303 | Train F1 score: 75.95%\n",
            "Epoch: 54 | Epoch Time: 0m 11s\n",
            "\tTrain Loss: 0.288 | Train F1 score: 76.54%\n",
            "Epoch: 55 | Epoch Time: 0m 11s\n",
            "\tTrain Loss: 0.281 | Train F1 score: 78.40%\n",
            "Epoch: 56 | Epoch Time: 0m 11s\n",
            "\t Val. Loss: 5.141 |  Val. F1 score 60.15%\n",
            "\tTrain Loss: 0.296 | Train F1 score: 76.51%\n",
            "Epoch: 57 | Epoch Time: 0m 11s\n",
            "\tTrain Loss: 0.305 | Train F1 score: 77.89%\n",
            "Epoch: 58 | Epoch Time: 0m 11s\n",
            "\tTrain Loss: 0.272 | Train F1 score: 78.09%\n",
            "Epoch: 59 | Epoch Time: 0m 11s\n",
            "\tTrain Loss: 0.278 | Train F1 score: 79.12%\n",
            "Epoch: 60 | Epoch Time: 0m 11s\n",
            "\tTrain Loss: 0.262 | Train F1 score: 80.61%\n"
          ],
          "name": "stdout"
        }
      ]
    },
    {
      "cell_type": "code",
      "metadata": {
        "id": "9dLqjTC20B-z",
        "colab": {
          "base_uri": "https://localhost:8080/"
        },
        "outputId": "7fa4e5c1-5d2d-4e4b-d075-b609a5bb306d"
      },
      "source": [
        "model.load_state_dict(torch.load('model.pt'))\n",
        "\n",
        "test_loss, test_score = evaluate(model, test_iterator, criterion)\n",
        "\n",
        "print(f'Test Loss: {test_loss:.3f} | Test F1 score: {test_score*100:.2f}%')"
      ],
      "execution_count": null,
      "outputs": [
        {
          "output_type": "stream",
          "text": [
            "Test Loss: 5.141 | Test F1 score: 60.15%\n"
          ],
          "name": "stdout"
        }
      ]
    }
  ]
}